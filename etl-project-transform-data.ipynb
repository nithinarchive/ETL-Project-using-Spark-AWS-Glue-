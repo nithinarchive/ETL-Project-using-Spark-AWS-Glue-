{
	"metadata": {
		"kernelspec": {
			"name": "glue_pyspark",
			"display_name": "Glue PySpark",
			"language": "python"
		},
		"language_info": {
			"name": "Python_Glue_Session",
			"mimetype": "text/x-python",
			"codemirror_mode": {
				"name": "python",
				"version": 3
			},
			"pygments_lexer": "python3",
			"file_extension": ".py"
		}
	},
	"nbformat_minor": 4,
	"nbformat": 4,
	"cells": [
		{
			"cell_type": "markdown",
			"source": "# AWS Glue Studio Notebook\n##### You are now running a AWS Glue Studio notebook; To start using your notebook you need to start an AWS Glue Interactive Session.\n",
			"metadata": {
				"editable": true,
				"trusted": true
			}
		},
		{
			"cell_type": "markdown",
			"source": "#### Optional: Run this cell to see available notebook commands (\"magics\").\n",
			"metadata": {
				"editable": true,
				"trusted": true
			}
		},
		{
			"cell_type": "code",
			"source": "%help",
			"metadata": {
				"editable": true,
				"trusted": true
			},
			"execution_count": null,
			"outputs": []
		},
		{
			"cell_type": "markdown",
			"source": "####  Run this cell to set up and start your interactive session.\n",
			"metadata": {
				"editable": true,
				"trusted": true
			}
		},
		{
			"cell_type": "code",
			"source": "%idle_timeout 2880\n%glue_version 3.0\n%worker_type G.1X\n%number_of_workers 5\n\nimport sys\nfrom awsglue.transforms import *\nfrom awsglue.utils import getResolvedOptions\nfrom pyspark.context import SparkContext\nfrom awsglue.context import GlueContext\nfrom awsglue.job import Job\n  \nsc = SparkContext.getOrCreate()\nglueContext = GlueContext(sc)\nspark = glueContext.spark_session\njob = Job(glueContext)",
			"metadata": {
				"editable": true,
				"trusted": true
			},
			"execution_count": 1,
			"outputs": [
				{
					"name": "stdout",
					"text": "Welcome to the Glue Interactive Sessions Kernel\nFor more information on available magic commands, please type %help in any new cell.\n\nPlease view our Getting Started page to access the most up-to-date information on the Interactive Sessions kernel: https://docs.aws.amazon.com/glue/latest/dg/interactive-sessions.html\nInstalled kernel version: 0.37.0 \nCurrent idle_timeout is 2800 minutes.\nidle_timeout has been set to 2880 minutes.\nSetting Glue version to: 3.0\nPrevious worker type: G.1X\nSetting new worker type to: G.1X\nPrevious number of workers: 5\nSetting new number of workers to: 5\nAuthenticating with environment variables and user-defined glue_role_arn: arn:aws:iam::835769464848:role/IAM-Role-etl-project\nTrying to create a Glue session for the kernel.\nWorker Type: G.1X\nNumber of Workers: 5\nSession ID: cb879fe5-556a-47cc-907a-49f544026ee1\nJob Type: glueetl\nApplying the following default arguments:\n--glue_kernel_version 0.37.0\n--enable-glue-datacatalog true\nWaiting for session cb879fe5-556a-47cc-907a-49f544026ee1 to get into ready status...\nSession cb879fe5-556a-47cc-907a-49f544026ee1 has been created.\n\n",
					"output_type": "stream"
				}
			]
		},
		{
			"cell_type": "markdown",
			"source": "#### Example: Create a DynamicFrame from a table in the AWS Glue Data Catalog and display its schema\n",
			"metadata": {
				"editable": true,
				"trusted": true
			}
		},
		{
			"cell_type": "code",
			"source": "dyf = glueContext.create_dynamic_frame.from_catalog(database='etl-project-for-medium-database', table_name='raw_data')\ndyf.printSchema()",
			"metadata": {
				"editable": true,
				"trusted": true
			},
			"execution_count": 2,
			"outputs": [
				{
					"name": "stdout",
					"text": "root\n|-- id: long\n|-- year_birth: long\n|-- education: string\n|-- marital_status: string\n|-- income: long\n|-- kidhome: long\n|-- teenhome: long\n|-- dt_customer: string\n|-- recency: long\n|-- mntwines: long\n|-- mntfruits: long\n|-- mntmeatproducts: long\n|-- mntfishproducts: long\n|-- mntsweetproducts: long\n|-- mntgoldprods: long\n|-- numdealspurchases: long\n|-- numwebpurchases: long\n|-- numcatalogpurchases: long\n|-- numstorepurchases: long\n|-- numwebvisitsmonth: long\n|-- acceptedcmp3: long\n|-- acceptedcmp4: long\n|-- acceptedcmp5: long\n|-- acceptedcmp1: long\n|-- acceptedcmp2: long\n|-- complain: long\n|-- z_costcontact: long\n|-- z_revenue: long\n|-- response: long\n",
					"output_type": "stream"
				}
			]
		},
		{
			"cell_type": "markdown",
			"source": "#### Convert the DynamicFrame to a Spark DataFrame and display a sample of the data\n",
			"metadata": {
				"editable": true,
				"trusted": true
			}
		},
		{
			"cell_type": "code",
			"source": "df = dyf.toDF()\ndf.show()",
			"metadata": {
				"editable": true,
				"trusted": true
			},
			"execution_count": 3,
			"outputs": [
				{
					"name": "stdout",
					"text": "+----+----------+----------+--------------+------+-------+--------+-----------+-------+--------+---------+---------------+---------------+----------------+------------+-----------------+---------------+-------------------+-----------------+-----------------+------------+------------+------------+------------+------------+--------+-------------+---------+--------+\n|  id|year_birth| education|marital_status|income|kidhome|teenhome|dt_customer|recency|mntwines|mntfruits|mntmeatproducts|mntfishproducts|mntsweetproducts|mntgoldprods|numdealspurchases|numwebpurchases|numcatalogpurchases|numstorepurchases|numwebvisitsmonth|acceptedcmp3|acceptedcmp4|acceptedcmp5|acceptedcmp1|acceptedcmp2|complain|z_costcontact|z_revenue|response|\n+----+----------+----------+--------------+------+-------+--------+-----------+-------+--------+---------+---------------+---------------+----------------+------------+-----------------+---------------+-------------------+-----------------+-----------------+------------+------------+------------+------------+------------+--------+-------------+---------+--------+\n|5524|      1957|Graduation|        Single| 58138|      0|       0| 2012-09-04|     58|     635|       88|            546|            172|              88|          88|                3|              8|                 10|                4|                7|           0|           0|           0|           0|           0|       0|            3|       11|       1|\n|2174|      1954|Graduation|        Single| 46344|      1|       1| 2014-03-08|     38|      11|        1|              6|              2|               1|           6|                2|              1|                  1|                2|                5|           0|           0|           0|           0|           0|       0|            3|       11|       0|\n|4141|      1965|Graduation|      Together| 71613|      0|       0| 2013-08-21|     26|     426|       49|            127|            111|              21|          42|                1|              8|                  2|               10|                4|           0|           0|           0|           0|           0|       0|            3|       11|       0|\n|6182|      1984|Graduation|      Together| 26646|      1|       0| 2014-02-10|     26|      11|        4|             20|             10|               3|           5|                2|              2|                  0|                4|                6|           0|           0|           0|           0|           0|       0|            3|       11|       0|\n|5324|      1981|       PhD|       Married| 58293|      1|       0| 2014-01-19|     94|     173|       43|            118|             46|              27|          15|                5|              5|                  3|                6|                5|           0|           0|           0|           0|           0|       0|            3|       11|       0|\n|7446|      1967|    Master|      Together| 62513|      0|       1| 2013-09-09|     16|     520|       42|             98|              0|              42|          14|                2|              6|                  4|               10|                6|           0|           0|           0|           0|           0|       0|            3|       11|       0|\n| 965|      1971|Graduation|      Divorced| 55635|      0|       1| 2012-11-13|     34|     235|       65|            164|             50|              49|          27|                4|              7|                  3|                7|                6|           0|           0|           0|           0|           0|       0|            3|       11|       0|\n|6177|      1985|       PhD|       Married| 33454|      1|       0| 2013-05-08|     32|      76|       10|             56|              3|               1|          23|                2|              4|                  0|                4|                8|           0|           0|           0|           0|           0|       0|            3|       11|       0|\n|4855|      1974|       PhD|      Together| 30351|      1|       0| 2013-06-06|     19|      14|        0|             24|              3|               3|           2|                1|              3|                  0|                2|                9|           0|           0|           0|           0|           0|       0|            3|       11|       1|\n|5899|      1950|       PhD|      Together|  5648|      1|       1| 2014-03-13|     68|      28|        0|              6|              1|               1|          13|                1|              1|                  0|                0|               20|           1|           0|           0|           0|           0|       0|            3|       11|       0|\n|1994|      1983|Graduation|       Married|  null|      1|       0| 2013-11-15|     11|       5|        5|              6|              0|               2|           1|                1|              1|                  0|                2|                7|           0|           0|           0|           0|           0|       0|            3|       11|       0|\n| 387|      1976|     Basic|       Married|  7500|      0|       0| 2012-11-13|     59|       6|       16|             11|             11|               1|          16|                1|              2|                  0|                3|                8|           0|           0|           0|           0|           0|       0|            3|       11|       0|\n|2125|      1959|Graduation|      Divorced| 63033|      0|       0| 2013-11-15|     82|     194|       61|            480|            225|             112|          30|                1|              3|                  4|                8|                2|           0|           0|           0|           0|           0|       0|            3|       11|       0|\n|8180|      1952|    Master|      Divorced| 59354|      1|       1| 2013-11-15|     53|     233|        2|             53|              3|               5|          14|                3|              6|                  1|                5|                6|           0|           0|           0|           0|           0|       0|            3|       11|       0|\n|2569|      1987|Graduation|       Married| 17323|      0|       0| 2012-10-10|     38|       3|       14|             17|              6|               1|           5|                1|              1|                  0|                3|                8|           0|           0|           0|           0|           0|       0|            3|       11|       0|\n|2114|      1946|       PhD|        Single| 82800|      0|       0| 2012-11-24|     23|    1006|       22|            115|             59|              68|          45|                1|              7|                  6|               12|                3|           0|           0|           1|           1|           0|       0|            3|       11|       1|\n|9736|      1980|Graduation|       Married| 41850|      1|       1| 2012-12-24|     51|      53|        5|             19|              2|              13|           4|                3|              3|                  0|                3|                8|           0|           0|           0|           0|           0|       0|            3|       11|       0|\n|4939|      1946|Graduation|      Together| 37760|      0|       0| 2012-08-31|     20|      84|        5|             38|            150|              12|          28|                2|              4|                  1|                6|                7|           0|           0|           0|           0|           0|       0|            3|       11|       0|\n|6565|      1949|    Master|       Married| 76995|      0|       1| 2013-03-28|     91|    1012|       80|            498|              0|              16|         176|                2|             11|                  4|                9|                5|           0|           0|           0|           1|           0|       0|            3|       11|       0|\n|2278|      1985|  2n Cycle|        Single| 33812|      1|       0| 2012-11-03|     86|       4|       17|             19|             30|              24|          39|                2|              2|                  1|                3|                6|           0|           0|           0|           0|           0|       0|            3|       11|       0|\n+----+----------+----------+--------------+------+-------+--------+-----------+-------+--------+---------+---------------+---------------+----------------+------------+-----------------+---------------+-------------------+-----------------+-----------------+------------+------------+------------+------------+------------+--------+-------------+---------+--------+\nonly showing top 20 rows\n",
					"output_type": "stream"
				}
			]
		},
		{
			"cell_type": "markdown",
			"source": "#### Drop columns that we don't need it",
			"metadata": {}
		},
		{
			"cell_type": "code",
			"source": "df = df[\"id\",\"year_birth\",\"education\",\"marital_status\",\"income\",\"dt_customer\"]\ndf.show()",
			"metadata": {
				"trusted": true
			},
			"execution_count": 6,
			"outputs": [
				{
					"name": "stdout",
					"text": "+----+----------+----------+--------------+------+-----------+\n|  id|year_birth| education|marital_status|income|dt_customer|\n+----+----------+----------+--------------+------+-----------+\n|5524|      1957|Graduation|        Single| 58138| 2012-09-04|\n|2174|      1954|Graduation|        Single| 46344| 2014-03-08|\n|4141|      1965|Graduation|      Together| 71613| 2013-08-21|\n|6182|      1984|Graduation|      Together| 26646| 2014-02-10|\n|5324|      1981|       PhD|       Married| 58293| 2014-01-19|\n|7446|      1967|    Master|      Together| 62513| 2013-09-09|\n| 965|      1971|Graduation|      Divorced| 55635| 2012-11-13|\n|6177|      1985|       PhD|       Married| 33454| 2013-05-08|\n|4855|      1974|       PhD|      Together| 30351| 2013-06-06|\n|5899|      1950|       PhD|      Together|  5648| 2014-03-13|\n|1994|      1983|Graduation|       Married|  null| 2013-11-15|\n| 387|      1976|     Basic|       Married|  7500| 2012-11-13|\n|2125|      1959|Graduation|      Divorced| 63033| 2013-11-15|\n|8180|      1952|    Master|      Divorced| 59354| 2013-11-15|\n|2569|      1987|Graduation|       Married| 17323| 2012-10-10|\n|2114|      1946|       PhD|        Single| 82800| 2012-11-24|\n|9736|      1980|Graduation|       Married| 41850| 2012-12-24|\n|4939|      1946|Graduation|      Together| 37760| 2012-08-31|\n|6565|      1949|    Master|       Married| 76995| 2013-03-28|\n|2278|      1985|  2n Cycle|        Single| 33812| 2012-11-03|\n+----+----------+----------+--------------+------+-----------+\nonly showing top 20 rows\n",
					"output_type": "stream"
				}
			]
		},
		{
			"cell_type": "markdown",
			"source": "#### Check NaN values for each column",
			"metadata": {}
		},
		{
			"cell_type": "code",
			"source": "from pyspark.sql.functions import *\n\ndf.select([count(when(col(c).isNull(),c)).alias(c) for c in df.columns]).show()",
			"metadata": {
				"trusted": true
			},
			"execution_count": 9,
			"outputs": [
				{
					"name": "stdout",
					"text": "+---+----------+---------+--------------+------+-----------+\n| id|year_birth|education|marital_status|income|dt_customer|\n+---+----------+---------+--------------+------+-----------+\n|  0|         0|        0|             0|    24|          0|\n+---+----------+---------+--------------+------+-----------+\n",
					"output_type": "stream"
				}
			]
		},
		{
			"cell_type": "markdown",
			"source": "#### There are 24 NaN values in \"income\" column. Let's fill NaN values with mean.",
			"metadata": {}
		},
		{
			"cell_type": "code",
			"source": "# Calculate the mean value of the column\nmean_value = df.select(mean(col('income'))).collect()[0][0]\n\n# Fill missing values with the mean value\ndf = df.fillna(mean_value, subset=['income'])\n\n# Check\ndf.select([count(when(col(c).isNull(),c)).alias(c) for c in df.columns]).show()",
			"metadata": {
				"trusted": true
			},
			"execution_count": 11,
			"outputs": [
				{
					"name": "stdout",
					"text": "+---+----------+---------+--------------+------+-----------+\n| id|year_birth|education|marital_status|income|dt_customer|\n+---+----------+---------+--------------+------+-----------+\n|  0|         0|        0|             0|     0|          0|\n+---+----------+---------+--------------+------+-----------+\n",
					"output_type": "stream"
				}
			]
		},
		{
			"cell_type": "markdown",
			"source": "#### Write the data to our S3 Bucket named \"transformed_data\" as csv.",
			"metadata": {}
		},
		{
			"cell_type": "code",
			"source": "df.write \\\n    .format(\"csv\") \\\n    .mode(\"append\") \\\n    .option(\"header\", \"true\") \\\n    .save(\"s3://etl-project-for-medium/etl-project-for-medium-database/transformed_data/\")",
			"metadata": {
				"trusted": true
			},
			"execution_count": 18,
			"outputs": [
				{
					"name": "stdout",
					"text": "\n",
					"output_type": "stream"
				}
			]
		},
		{
			"cell_type": "markdown",
			"source": "#### Write the data to our S3 Bucket named \"transformed_data\" as json.",
			"metadata": {}
		},
		{
			"cell_type": "code",
			"source": "df.write \\\n    .format(\"json\") \\\n    .mode(\"append\") \\\n    .save(\"s3://etl-project-for-medium/etl-project-for-medium-database/transformed_data/\")",
			"metadata": {
				"trusted": true
			},
			"execution_count": 19,
			"outputs": [
				{
					"name": "stdout",
					"text": "\n",
					"output_type": "stream"
				}
			]
		},
		{
			"cell_type": "code",
			"source": "",
			"metadata": {},
			"execution_count": null,
			"outputs": []
		}
	]
}